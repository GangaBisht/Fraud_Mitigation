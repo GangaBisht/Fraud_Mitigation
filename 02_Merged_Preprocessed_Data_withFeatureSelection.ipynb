{
  "nbformat": 4,
  "nbformat_minor": 0,
  "metadata": {
    "colab": {
      "name": "02_Merged_Preprocessed_Data_withFeatureSelection.ipynb",
      "provenance": [],
      "collapsed_sections": [],
      "authorship_tag": "ABX9TyOJZ7VRWtWHTLmFHhI5mcET",
      "include_colab_link": true
    },
    "kernelspec": {
      "display_name": "Python 3",
      "name": "python3"
    }
  },
  "cells": [
    {
      "cell_type": "markdown",
      "metadata": {
        "id": "view-in-github",
        "colab_type": "text"
      },
      "source": [
        "<a href=\"https://colab.research.google.com/github/GangaBisht/Fraud_Mitigation/blob/master/02_Merged_Preprocessed_Data_withFeatureSelection.ipynb\" target=\"_parent\"><img src=\"https://colab.research.google.com/assets/colab-badge.svg\" alt=\"Open In Colab\"/></a>"
      ]
    },
    {
      "cell_type": "code",
      "metadata": {
        "colab": {
          "base_uri": "https://localhost:8080/",
          "height": 35
        },
        "id": "cDWFk6tqV2Ob",
        "outputId": "5b065591-0b6a-4ee3-fd6e-19cd65b738d0"
      },
      "source": [
        "import os\n",
        "os.getcwd()"
      ],
      "execution_count": 1,
      "outputs": [
        {
          "output_type": "execute_result",
          "data": {
            "application/vnd.google.colaboratory.intrinsic+json": {
              "type": "string"
            },
            "text/plain": [
              "'/content'"
            ]
          },
          "metadata": {
            "tags": []
          },
          "execution_count": 1
        }
      ]
    },
    {
      "cell_type": "code",
      "metadata": {
        "colab": {
          "base_uri": "https://localhost:8080/"
        },
        "id": "iIusehYLV3uh",
        "outputId": "6561e202-778b-49e1-9002-98050056b070"
      },
      "source": [
        "from google.colab import drive\n",
        "drive.mount('/content/gdrive')\n",
        "os.chdir('/content/gdrive/My Drive')"
      ],
      "execution_count": 2,
      "outputs": [
        {
          "output_type": "stream",
          "text": [
            "Mounted at /content/gdrive\n"
          ],
          "name": "stdout"
        }
      ]
    },
    {
      "cell_type": "code",
      "metadata": {
        "id": "Pnze_IFAWV1s"
      },
      "source": [
        "import pandas as pd\n",
        "import matplotlib.pyplot as plt\n",
        "import numpy as np\n",
        "import seaborn as sns\n",
        "from sklearn.ensemble import GradientBoostingClassifier\n",
        "\n",
        "from sklearn.model_selection import train_test_split\n",
        "# memory management\n",
        "import gc\n"
      ],
      "execution_count": 3,
      "outputs": []
    },
    {
      "cell_type": "code",
      "metadata": {
        "colab": {
          "base_uri": "https://localhost:8080/",
          "height": 282
        },
        "id": "Ylk0HkvOXEH2",
        "outputId": "85ddc84b-6282-44ea-ef7e-1a169f424d19"
      },
      "source": [
        "skipcols = ['Unnamed: 0','Hour','Unnamed: 0.1']\n",
        "\n",
        "#trafficWith15minFlow_accident_weather_df\n",
        "df=pd.read_excel('trafficWith15minFlow_accident_weather_df.xlsx', usecols=lambda x: x not in skipcols)\n",
        "df.head(2)"
      ],
      "execution_count": 4,
      "outputs": [
        {
          "output_type": "execute_result",
          "data": {
            "text/html": [
              "<div>\n",
              "<style scoped>\n",
              "    .dataframe tbody tr th:only-of-type {\n",
              "        vertical-align: middle;\n",
              "    }\n",
              "\n",
              "    .dataframe tbody tr th {\n",
              "        vertical-align: top;\n",
              "    }\n",
              "\n",
              "    .dataframe thead th {\n",
              "        text-align: right;\n",
              "    }\n",
              "</style>\n",
              "<table border=\"1\" class=\"dataframe\">\n",
              "  <thead>\n",
              "    <tr style=\"text-align: right;\">\n",
              "      <th></th>\n",
              "      <th>Date</th>\n",
              "      <th>Hourly Pressure at Mean Sea Level (hPa)</th>\n",
              "      <th>Hourly Temperature (°C)</th>\n",
              "      <th>Hourly Rainfall Total (mm)</th>\n",
              "      <th>Hourly Snow Depth (cm)</th>\n",
              "      <th>Hourly Mean Wind Direction (degrees)</th>\n",
              "      <th>Hourly Mean Windspeed (knots)</th>\n",
              "      <th>Hourly Maximum Gust (knots)</th>\n",
              "      <th>Hourly Visibility (metres)</th>\n",
              "      <th>Hourly Relative Humidity (%)</th>\n",
              "      <th>Hourly Total Cloud Cover (oktas)</th>\n",
              "      <th>Local Date_ Local Time</th>\n",
              "      <th>Day Type ID</th>\n",
              "      <th>Total Carriageway Flow</th>\n",
              "      <th>Total Flow vehicles less than 5.2m</th>\n",
              "      <th>Total Flow vehicles 5.21m - 6.6m</th>\n",
              "      <th>Total Flow vehicles 6.61m - 11.6m</th>\n",
              "      <th>Total Flow vehicles above 11.6m</th>\n",
              "      <th>Speed Value</th>\n",
              "      <th>Average Speed in MPH</th>\n",
              "      <th>Cat 1 Speed Count</th>\n",
              "      <th>Cat 2 Speed Count</th>\n",
              "      <th>Cat 3 Speed Count</th>\n",
              "      <th>Cat 4 Speed Count</th>\n",
              "      <th>Cat 5 Speed Count</th>\n",
              "      <th>Cat 6 Speed Count</th>\n",
              "      <th>Cat 7 Speed Count</th>\n",
              "      <th>Cat 8 Speed Count</th>\n",
              "      <th>Cat 9 Speed Count</th>\n",
              "      <th>Cat 10 Speed Count</th>\n",
              "      <th>Cat 11 Speed Count</th>\n",
              "      <th>Cat 12 Speed Count</th>\n",
              "      <th>Cat 13 Speed Count</th>\n",
              "      <th>Cat 14 Speed Count</th>\n",
              "      <th>Cat speed counts included flag</th>\n",
              "      <th>Direction</th>\n",
              "      <th>DirectionCode</th>\n",
              "      <th>Road 1</th>\n",
              "      <th>Class</th>\n",
              "      <th>Accident_Index</th>\n",
              "      <th>timedelta</th>\n",
              "      <th>Day</th>\n",
              "      <th>Month</th>\n",
              "      <th>Year</th>\n",
              "      <th>Minutes</th>\n",
              "      <th>Seconds</th>\n",
              "    </tr>\n",
              "  </thead>\n",
              "  <tbody>\n",
              "    <tr>\n",
              "      <th>0</th>\n",
              "      <td>2019-04-01</td>\n",
              "      <td>1042.9</td>\n",
              "      <td>0.9</td>\n",
              "      <td>0.0</td>\n",
              "      <td>0</td>\n",
              "      <td>280</td>\n",
              "      <td>2</td>\n",
              "      <td>5</td>\n",
              "      <td>8000</td>\n",
              "      <td>90.0</td>\n",
              "      <td>8</td>\n",
              "      <td>2019-04-01 00:14:00</td>\n",
              "      <td>6</td>\n",
              "      <td>134</td>\n",
              "      <td>116</td>\n",
              "      <td>7</td>\n",
              "      <td>4</td>\n",
              "      <td>7</td>\n",
              "      <td>105.11</td>\n",
              "      <td>65.31</td>\n",
              "      <td>0</td>\n",
              "      <td>0</td>\n",
              "      <td>0</td>\n",
              "      <td>0</td>\n",
              "      <td>0</td>\n",
              "      <td>0</td>\n",
              "      <td>1</td>\n",
              "      <td>1</td>\n",
              "      <td>7</td>\n",
              "      <td>7</td>\n",
              "      <td>17</td>\n",
              "      <td>52</td>\n",
              "      <td>31</td>\n",
              "      <td>18</td>\n",
              "      <td>True</td>\n",
              "      <td>J1toJ2</td>\n",
              "      <td>1</td>\n",
              "      <td>Motorway606</td>\n",
              "      <td>0</td>\n",
              "      <td>NaN</td>\n",
              "      <td>NaN</td>\n",
              "      <td>1</td>\n",
              "      <td>4</td>\n",
              "      <td>2019</td>\n",
              "      <td>14</td>\n",
              "      <td>0</td>\n",
              "    </tr>\n",
              "    <tr>\n",
              "      <th>1</th>\n",
              "      <td>2019-04-01</td>\n",
              "      <td>1042.9</td>\n",
              "      <td>0.9</td>\n",
              "      <td>0.0</td>\n",
              "      <td>0</td>\n",
              "      <td>280</td>\n",
              "      <td>2</td>\n",
              "      <td>5</td>\n",
              "      <td>8000</td>\n",
              "      <td>90.0</td>\n",
              "      <td>8</td>\n",
              "      <td>2019-04-01 00:29:00</td>\n",
              "      <td>6</td>\n",
              "      <td>123</td>\n",
              "      <td>108</td>\n",
              "      <td>5</td>\n",
              "      <td>4</td>\n",
              "      <td>6</td>\n",
              "      <td>106.93</td>\n",
              "      <td>66.44</td>\n",
              "      <td>0</td>\n",
              "      <td>0</td>\n",
              "      <td>0</td>\n",
              "      <td>0</td>\n",
              "      <td>0</td>\n",
              "      <td>0</td>\n",
              "      <td>0</td>\n",
              "      <td>2</td>\n",
              "      <td>0</td>\n",
              "      <td>13</td>\n",
              "      <td>18</td>\n",
              "      <td>38</td>\n",
              "      <td>30</td>\n",
              "      <td>22</td>\n",
              "      <td>True</td>\n",
              "      <td>J1toJ2</td>\n",
              "      <td>1</td>\n",
              "      <td>Motorway606</td>\n",
              "      <td>0</td>\n",
              "      <td>NaN</td>\n",
              "      <td>NaN</td>\n",
              "      <td>1</td>\n",
              "      <td>4</td>\n",
              "      <td>2019</td>\n",
              "      <td>29</td>\n",
              "      <td>0</td>\n",
              "    </tr>\n",
              "  </tbody>\n",
              "</table>\n",
              "</div>"
            ],
            "text/plain": [
              "        Date  Hourly Pressure at Mean Sea Level (hPa)  ...  Minutes  Seconds\n",
              "0 2019-04-01                                   1042.9  ...       14        0\n",
              "1 2019-04-01                                   1042.9  ...       29        0\n",
              "\n",
              "[2 rows x 46 columns]"
            ]
          },
          "metadata": {
            "tags": []
          },
          "execution_count": 4
        }
      ]
    },
    {
      "cell_type": "code",
      "metadata": {
        "colab": {
          "base_uri": "https://localhost:8080/"
        },
        "id": "Z_RpKsoWPCk7",
        "outputId": "0027ccf6-5a1b-4ad9-c4f7-157e8c50bf6e"
      },
      "source": [
        "df.columns"
      ],
      "execution_count": 5,
      "outputs": [
        {
          "output_type": "execute_result",
          "data": {
            "text/plain": [
              "Index(['Date', 'Hourly Pressure at Mean Sea Level (hPa)',\n",
              "       'Hourly Temperature (°C)', 'Hourly Rainfall Total (mm)',\n",
              "       'Hourly Snow Depth (cm)', 'Hourly Mean Wind Direction (degrees)',\n",
              "       'Hourly Mean Windspeed (knots)', 'Hourly Maximum Gust (knots)',\n",
              "       'Hourly Visibility (metres)', 'Hourly Relative Humidity (%)',\n",
              "       'Hourly Total Cloud Cover (oktas)', 'Local Date_ Local Time',\n",
              "       ' Day Type ID', ' Total Carriageway Flow',\n",
              "       ' Total Flow vehicles less than 5.2m',\n",
              "       ' Total Flow vehicles 5.21m - 6.6m',\n",
              "       ' Total Flow vehicles 6.61m - 11.6m',\n",
              "       ' Total Flow vehicles above 11.6m', ' Speed Value',\n",
              "       ' Average Speed in MPH', ' Cat 1 Speed Count', ' Cat 2 Speed Count',\n",
              "       ' Cat 3 Speed Count', ' Cat 4 Speed Count', ' Cat 5 Speed Count',\n",
              "       ' Cat 6 Speed Count', ' Cat 7 Speed Count', ' Cat 8 Speed Count',\n",
              "       ' Cat 9 Speed Count', ' Cat 10 Speed Count', ' Cat 11 Speed Count',\n",
              "       ' Cat 12 Speed Count', ' Cat 13 Speed Count', ' Cat 14 Speed Count',\n",
              "       ' Cat speed counts included flag', 'Direction', 'DirectionCode',\n",
              "       'Road 1', 'Class', 'Accident_Index', 'timedelta', 'Day', 'Month',\n",
              "       'Year', 'Minutes', 'Seconds'],\n",
              "      dtype='object')"
            ]
          },
          "metadata": {
            "tags": []
          },
          "execution_count": 5
        }
      ]
    },
    {
      "cell_type": "code",
      "metadata": {
        "id": "C_BeWsUAX1S9"
      },
      "source": [
        "df.drop(['Date','Local Date_ Local Time','timedelta','Accident_Index','Direction'\t], axis = 1, inplace = True) \n",
        "#df.drop(['Direction'], inplace=True, axis=1)"
      ],
      "execution_count": 6,
      "outputs": []
    },
    {
      "cell_type": "code",
      "metadata": {
        "colab": {
          "base_uri": "https://localhost:8080/"
        },
        "id": "pQU5B89hlK51",
        "outputId": "30805a20-af24-4a93-86da-a906c498d0b6"
      },
      "source": [
        "#Identify single unique value\n",
        "unique_count= df.nunique()\n",
        "unique_single_df = pd.DataFrame(unique_count[unique_count == 1]).reset_index().rename(columns = {'index': 'feature', \n",
        "                                                                                                     0: 'nunique'})\n",
        "drop_lst = list(unique_single_df['feature'])\n",
        "print(drop_lst)\n",
        "#single_unique = list(unique_count[unique_count==1])\n",
        "#single_unique\n",
        "df_1 = df.drop(columns = drop_lst)\n",
        "#df_1"
      ],
      "execution_count": 7,
      "outputs": [
        {
          "output_type": "stream",
          "text": [
            "[' Cat speed counts included flag', 'Road 1', 'Year', 'Seconds']\n"
          ],
          "name": "stdout"
        }
      ]
    },
    {
      "cell_type": "markdown",
      "metadata": {
        "id": "vz3AvpGEy87b"
      },
      "source": [
        ""
      ]
    },
    {
      "cell_type": "code",
      "metadata": {
        "id": "x3H-MVDbyeJM",
        "colab": {
          "base_uri": "https://localhost:8080/"
        },
        "outputId": "815b1dc4-e309-448f-83a5-f7db050686d8"
      },
      "source": [
        "df_1.columns"
      ],
      "execution_count": 8,
      "outputs": [
        {
          "output_type": "execute_result",
          "data": {
            "text/plain": [
              "Index(['Hourly Pressure at Mean Sea Level (hPa)', 'Hourly Temperature (°C)',\n",
              "       'Hourly Rainfall Total (mm)', 'Hourly Snow Depth (cm)',\n",
              "       'Hourly Mean Wind Direction (degrees)', 'Hourly Mean Windspeed (knots)',\n",
              "       'Hourly Maximum Gust (knots)', 'Hourly Visibility (metres)',\n",
              "       'Hourly Relative Humidity (%)', 'Hourly Total Cloud Cover (oktas)',\n",
              "       ' Day Type ID', ' Total Carriageway Flow',\n",
              "       ' Total Flow vehicles less than 5.2m',\n",
              "       ' Total Flow vehicles 5.21m - 6.6m',\n",
              "       ' Total Flow vehicles 6.61m - 11.6m',\n",
              "       ' Total Flow vehicles above 11.6m', ' Speed Value',\n",
              "       ' Average Speed in MPH', ' Cat 1 Speed Count', ' Cat 2 Speed Count',\n",
              "       ' Cat 3 Speed Count', ' Cat 4 Speed Count', ' Cat 5 Speed Count',\n",
              "       ' Cat 6 Speed Count', ' Cat 7 Speed Count', ' Cat 8 Speed Count',\n",
              "       ' Cat 9 Speed Count', ' Cat 10 Speed Count', ' Cat 11 Speed Count',\n",
              "       ' Cat 12 Speed Count', ' Cat 13 Speed Count', ' Cat 14 Speed Count',\n",
              "       'DirectionCode', 'Class', 'Day', 'Month', 'Minutes'],\n",
              "      dtype='object')"
            ]
          },
          "metadata": {
            "tags": []
          },
          "execution_count": 8
        }
      ]
    },
    {
      "cell_type": "code",
      "metadata": {
        "id": "aR5tpWJcUmZ-",
        "colab": {
          "base_uri": "https://localhost:8080/"
        },
        "outputId": "eb3881ac-061c-4fc4-ef0b-4b32a8698947"
      },
      "source": [
        "X_data = df_1.drop('Class', axis=1)\n",
        "Y_class = df_1['Class']\n",
        "X_data.shape\n",
        "Y_class.shape"
      ],
      "execution_count": 9,
      "outputs": [
        {
          "output_type": "execute_result",
          "data": {
            "text/plain": [
              "(109791,)"
            ]
          },
          "metadata": {
            "tags": []
          },
          "execution_count": 9
        }
      ]
    },
    {
      "cell_type": "code",
      "metadata": {
        "colab": {
          "base_uri": "https://localhost:8080/"
        },
        "id": "-K01-g7yCTLz",
        "outputId": "7e8da98b-e4aa-4b93-b925-ba3ab71d71ce"
      },
      "source": [
        "print(df_1.shape)\n",
        "print(X_data.shape)\n",
        "print(Y_class.shape)\n",
        "#X = X.reshape(X.shape[1:])"
      ],
      "execution_count": 10,
      "outputs": [
        {
          "output_type": "stream",
          "text": [
            "(109791, 37)\n",
            "(109791, 36)\n",
            "(109791,)\n"
          ],
          "name": "stdout"
        }
      ]
    },
    {
      "cell_type": "code",
      "metadata": {
        "colab": {
          "base_uri": "https://localhost:8080/"
        },
        "id": "WUnR9qRznJLB",
        "outputId": "2288a59c-a15b-47b7-a834-0a500986cd1a"
      },
      "source": [
        "corr = X_data.corr().abs()\n",
        "#corr_series=corr.unstack().sort_values(kind=\"quicksort\")\n",
        "\n",
        "upper = corr.where(np.triu(np.ones(corr.shape), k = 1).astype(np.bool))\n",
        "upper\n",
        "high_corr_lst = [column for column in upper.columns if any(upper[column] > 0.9)]\n",
        "high_corr_lst\n"
      ],
      "execution_count": 11,
      "outputs": [
        {
          "output_type": "execute_result",
          "data": {
            "text/plain": [
              "['Hourly Maximum Gust (knots)',\n",
              " ' Total Flow vehicles less than 5.2m',\n",
              " ' Total Flow vehicles 6.61m - 11.6m',\n",
              " ' Average Speed in MPH']"
            ]
          },
          "metadata": {
            "tags": []
          },
          "execution_count": 11
        }
      ]
    },
    {
      "cell_type": "code",
      "metadata": {
        "id": "4648efDb4ZtX"
      },
      "source": [
        "collinear_df = pd.DataFrame(columns = ['drop_feature', 'corr_feature', 'corr_value'])\n",
        "\n",
        "for column in high_corr_lst:\n",
        "            # Find the correlated features\n",
        "            corr_features = list(upper.index[upper[column].abs() > 0.9])\n",
        "            # Find the correlated values\n",
        "            corr_values = list(upper[column][upper[column].abs() > 0.9])\n",
        "            drop_features = [column for _ in range(len(corr_features))]   \n",
        "            temp_df = pd.DataFrame.from_dict({'drop_feature': drop_features,\n",
        "                                             'corr_feature': corr_features,\n",
        "                                             'corr_value': corr_values})\n",
        "\n",
        "            # Add to dataframe\n",
        "            collinear_df = collinear_df.append(temp_df, ignore_index = True)"
      ],
      "execution_count": 12,
      "outputs": []
    },
    {
      "cell_type": "code",
      "metadata": {
        "colab": {
          "base_uri": "https://localhost:8080/",
          "height": 168
        },
        "id": "Y5sKP43CnO7y",
        "outputId": "4797c5fb-2f2e-4149-a5c0-0d14e83045d9"
      },
      "source": [
        "collinear_df"
      ],
      "execution_count": 13,
      "outputs": [
        {
          "output_type": "execute_result",
          "data": {
            "text/html": [
              "<div>\n",
              "<style scoped>\n",
              "    .dataframe tbody tr th:only-of-type {\n",
              "        vertical-align: middle;\n",
              "    }\n",
              "\n",
              "    .dataframe tbody tr th {\n",
              "        vertical-align: top;\n",
              "    }\n",
              "\n",
              "    .dataframe thead th {\n",
              "        text-align: right;\n",
              "    }\n",
              "</style>\n",
              "<table border=\"1\" class=\"dataframe\">\n",
              "  <thead>\n",
              "    <tr style=\"text-align: right;\">\n",
              "      <th></th>\n",
              "      <th>drop_feature</th>\n",
              "      <th>corr_feature</th>\n",
              "      <th>corr_value</th>\n",
              "    </tr>\n",
              "  </thead>\n",
              "  <tbody>\n",
              "    <tr>\n",
              "      <th>0</th>\n",
              "      <td>Hourly Maximum Gust (knots)</td>\n",
              "      <td>Hourly Mean Windspeed (knots)</td>\n",
              "      <td>0.948847</td>\n",
              "    </tr>\n",
              "    <tr>\n",
              "      <th>1</th>\n",
              "      <td>Total Flow vehicles less than 5.2m</td>\n",
              "      <td>Total Carriageway Flow</td>\n",
              "      <td>0.990379</td>\n",
              "    </tr>\n",
              "    <tr>\n",
              "      <th>2</th>\n",
              "      <td>Total Flow vehicles 6.61m - 11.6m</td>\n",
              "      <td>Total Flow vehicles 5.21m - 6.6m</td>\n",
              "      <td>0.900928</td>\n",
              "    </tr>\n",
              "    <tr>\n",
              "      <th>3</th>\n",
              "      <td>Average Speed in MPH</td>\n",
              "      <td>Speed Value</td>\n",
              "      <td>1.000000</td>\n",
              "    </tr>\n",
              "  </tbody>\n",
              "</table>\n",
              "</div>"
            ],
            "text/plain": [
              "                          drop_feature  ... corr_value\n",
              "0          Hourly Maximum Gust (knots)  ...   0.948847\n",
              "1   Total Flow vehicles less than 5.2m  ...   0.990379\n",
              "2    Total Flow vehicles 6.61m - 11.6m  ...   0.900928\n",
              "3                 Average Speed in MPH  ...   1.000000\n",
              "\n",
              "[4 rows x 3 columns]"
            ]
          },
          "metadata": {
            "tags": []
          },
          "execution_count": 13
        }
      ]
    },
    {
      "cell_type": "code",
      "metadata": {
        "id": "wk1vIODC6mJV",
        "colab": {
          "base_uri": "https://localhost:8080/",
          "height": 303
        },
        "outputId": "7fb2bdb7-b5af-4c67-817a-edaf3e238150"
      },
      "source": [
        "\n",
        "df_2=df_1.drop(columns=high_corr_lst)\n",
        "df_2.head()"
      ],
      "execution_count": 14,
      "outputs": [
        {
          "output_type": "execute_result",
          "data": {
            "text/html": [
              "<div>\n",
              "<style scoped>\n",
              "    .dataframe tbody tr th:only-of-type {\n",
              "        vertical-align: middle;\n",
              "    }\n",
              "\n",
              "    .dataframe tbody tr th {\n",
              "        vertical-align: top;\n",
              "    }\n",
              "\n",
              "    .dataframe thead th {\n",
              "        text-align: right;\n",
              "    }\n",
              "</style>\n",
              "<table border=\"1\" class=\"dataframe\">\n",
              "  <thead>\n",
              "    <tr style=\"text-align: right;\">\n",
              "      <th></th>\n",
              "      <th>Hourly Pressure at Mean Sea Level (hPa)</th>\n",
              "      <th>Hourly Temperature (°C)</th>\n",
              "      <th>Hourly Rainfall Total (mm)</th>\n",
              "      <th>Hourly Snow Depth (cm)</th>\n",
              "      <th>Hourly Mean Wind Direction (degrees)</th>\n",
              "      <th>Hourly Mean Windspeed (knots)</th>\n",
              "      <th>Hourly Visibility (metres)</th>\n",
              "      <th>Hourly Relative Humidity (%)</th>\n",
              "      <th>Hourly Total Cloud Cover (oktas)</th>\n",
              "      <th>Day Type ID</th>\n",
              "      <th>Total Carriageway Flow</th>\n",
              "      <th>Total Flow vehicles 5.21m - 6.6m</th>\n",
              "      <th>Total Flow vehicles above 11.6m</th>\n",
              "      <th>Speed Value</th>\n",
              "      <th>Cat 1 Speed Count</th>\n",
              "      <th>Cat 2 Speed Count</th>\n",
              "      <th>Cat 3 Speed Count</th>\n",
              "      <th>Cat 4 Speed Count</th>\n",
              "      <th>Cat 5 Speed Count</th>\n",
              "      <th>Cat 6 Speed Count</th>\n",
              "      <th>Cat 7 Speed Count</th>\n",
              "      <th>Cat 8 Speed Count</th>\n",
              "      <th>Cat 9 Speed Count</th>\n",
              "      <th>Cat 10 Speed Count</th>\n",
              "      <th>Cat 11 Speed Count</th>\n",
              "      <th>Cat 12 Speed Count</th>\n",
              "      <th>Cat 13 Speed Count</th>\n",
              "      <th>Cat 14 Speed Count</th>\n",
              "      <th>DirectionCode</th>\n",
              "      <th>Class</th>\n",
              "      <th>Day</th>\n",
              "      <th>Month</th>\n",
              "      <th>Minutes</th>\n",
              "    </tr>\n",
              "  </thead>\n",
              "  <tbody>\n",
              "    <tr>\n",
              "      <th>0</th>\n",
              "      <td>1042.9</td>\n",
              "      <td>0.9</td>\n",
              "      <td>0.0</td>\n",
              "      <td>0</td>\n",
              "      <td>280</td>\n",
              "      <td>2</td>\n",
              "      <td>8000</td>\n",
              "      <td>90.0</td>\n",
              "      <td>8</td>\n",
              "      <td>6</td>\n",
              "      <td>134</td>\n",
              "      <td>7</td>\n",
              "      <td>7</td>\n",
              "      <td>105.11</td>\n",
              "      <td>0</td>\n",
              "      <td>0</td>\n",
              "      <td>0</td>\n",
              "      <td>0</td>\n",
              "      <td>0</td>\n",
              "      <td>0</td>\n",
              "      <td>1</td>\n",
              "      <td>1</td>\n",
              "      <td>7</td>\n",
              "      <td>7</td>\n",
              "      <td>17</td>\n",
              "      <td>52</td>\n",
              "      <td>31</td>\n",
              "      <td>18</td>\n",
              "      <td>1</td>\n",
              "      <td>0</td>\n",
              "      <td>1</td>\n",
              "      <td>4</td>\n",
              "      <td>14</td>\n",
              "    </tr>\n",
              "    <tr>\n",
              "      <th>1</th>\n",
              "      <td>1042.9</td>\n",
              "      <td>0.9</td>\n",
              "      <td>0.0</td>\n",
              "      <td>0</td>\n",
              "      <td>280</td>\n",
              "      <td>2</td>\n",
              "      <td>8000</td>\n",
              "      <td>90.0</td>\n",
              "      <td>8</td>\n",
              "      <td>6</td>\n",
              "      <td>123</td>\n",
              "      <td>5</td>\n",
              "      <td>6</td>\n",
              "      <td>106.93</td>\n",
              "      <td>0</td>\n",
              "      <td>0</td>\n",
              "      <td>0</td>\n",
              "      <td>0</td>\n",
              "      <td>0</td>\n",
              "      <td>0</td>\n",
              "      <td>0</td>\n",
              "      <td>2</td>\n",
              "      <td>0</td>\n",
              "      <td>13</td>\n",
              "      <td>18</td>\n",
              "      <td>38</td>\n",
              "      <td>30</td>\n",
              "      <td>22</td>\n",
              "      <td>1</td>\n",
              "      <td>0</td>\n",
              "      <td>1</td>\n",
              "      <td>4</td>\n",
              "      <td>29</td>\n",
              "    </tr>\n",
              "    <tr>\n",
              "      <th>2</th>\n",
              "      <td>1042.9</td>\n",
              "      <td>0.9</td>\n",
              "      <td>0.0</td>\n",
              "      <td>0</td>\n",
              "      <td>280</td>\n",
              "      <td>2</td>\n",
              "      <td>8000</td>\n",
              "      <td>90.0</td>\n",
              "      <td>8</td>\n",
              "      <td>6</td>\n",
              "      <td>95</td>\n",
              "      <td>0</td>\n",
              "      <td>6</td>\n",
              "      <td>104.24</td>\n",
              "      <td>0</td>\n",
              "      <td>0</td>\n",
              "      <td>0</td>\n",
              "      <td>0</td>\n",
              "      <td>0</td>\n",
              "      <td>0</td>\n",
              "      <td>0</td>\n",
              "      <td>0</td>\n",
              "      <td>4</td>\n",
              "      <td>9</td>\n",
              "      <td>11</td>\n",
              "      <td>44</td>\n",
              "      <td>16</td>\n",
              "      <td>11</td>\n",
              "      <td>1</td>\n",
              "      <td>0</td>\n",
              "      <td>1</td>\n",
              "      <td>4</td>\n",
              "      <td>44</td>\n",
              "    </tr>\n",
              "    <tr>\n",
              "      <th>3</th>\n",
              "      <td>1042.9</td>\n",
              "      <td>0.9</td>\n",
              "      <td>0.0</td>\n",
              "      <td>0</td>\n",
              "      <td>280</td>\n",
              "      <td>2</td>\n",
              "      <td>8000</td>\n",
              "      <td>90.0</td>\n",
              "      <td>8</td>\n",
              "      <td>6</td>\n",
              "      <td>100</td>\n",
              "      <td>4</td>\n",
              "      <td>6</td>\n",
              "      <td>107.19</td>\n",
              "      <td>0</td>\n",
              "      <td>0</td>\n",
              "      <td>0</td>\n",
              "      <td>0</td>\n",
              "      <td>0</td>\n",
              "      <td>0</td>\n",
              "      <td>0</td>\n",
              "      <td>1</td>\n",
              "      <td>1</td>\n",
              "      <td>6</td>\n",
              "      <td>7</td>\n",
              "      <td>48</td>\n",
              "      <td>30</td>\n",
              "      <td>7</td>\n",
              "      <td>1</td>\n",
              "      <td>0</td>\n",
              "      <td>1</td>\n",
              "      <td>4</td>\n",
              "      <td>59</td>\n",
              "    </tr>\n",
              "    <tr>\n",
              "      <th>4</th>\n",
              "      <td>1042.9</td>\n",
              "      <td>0.9</td>\n",
              "      <td>0.0</td>\n",
              "      <td>0</td>\n",
              "      <td>280</td>\n",
              "      <td>2</td>\n",
              "      <td>8000</td>\n",
              "      <td>90.0</td>\n",
              "      <td>8</td>\n",
              "      <td>6</td>\n",
              "      <td>134</td>\n",
              "      <td>7</td>\n",
              "      <td>7</td>\n",
              "      <td>105.11</td>\n",
              "      <td>0</td>\n",
              "      <td>0</td>\n",
              "      <td>0</td>\n",
              "      <td>0</td>\n",
              "      <td>0</td>\n",
              "      <td>0</td>\n",
              "      <td>1</td>\n",
              "      <td>1</td>\n",
              "      <td>7</td>\n",
              "      <td>7</td>\n",
              "      <td>17</td>\n",
              "      <td>52</td>\n",
              "      <td>31</td>\n",
              "      <td>18</td>\n",
              "      <td>1</td>\n",
              "      <td>0</td>\n",
              "      <td>1</td>\n",
              "      <td>4</td>\n",
              "      <td>14</td>\n",
              "    </tr>\n",
              "  </tbody>\n",
              "</table>\n",
              "</div>"
            ],
            "text/plain": [
              "   Hourly Pressure at Mean Sea Level (hPa)  ...  Minutes\n",
              "0                                   1042.9  ...       14\n",
              "1                                   1042.9  ...       29\n",
              "2                                   1042.9  ...       44\n",
              "3                                   1042.9  ...       59\n",
              "4                                   1042.9  ...       14\n",
              "\n",
              "[5 rows x 33 columns]"
            ]
          },
          "metadata": {
            "tags": []
          },
          "execution_count": 14
        }
      ]
    },
    {
      "cell_type": "code",
      "metadata": {
        "id": "7WIsQjnYT9Tr"
      },
      "source": [
        "#df_2.to_excel('Merged_15minTrafficFlow_Preprocessed_Data.xlsx', index = False)\n"
      ],
      "execution_count": 15,
      "outputs": []
    },
    {
      "cell_type": "code",
      "metadata": {
        "id": "v5GR42_-VQmT"
      },
      "source": [
        "#check for columns which has value 0 for all rows \n",
        "#(df_2 == 0).all(axis=0)"
      ],
      "execution_count": 16,
      "outputs": []
    },
    {
      "cell_type": "code",
      "metadata": {
        "id": "p6-zpCDLhh42"
      },
      "source": [
        "#pd.isnull(np.array([np.nan, 0], dtype=float))\n",
        "#pd.isnull(np.array([np.nan, 0], dtype=object))\n"
      ],
      "execution_count": 17,
      "outputs": []
    },
    {
      "cell_type": "code",
      "metadata": {
        "id": "GD9u9T1aaRfd",
        "colab": {
          "base_uri": "https://localhost:8080/",
          "height": 570
        },
        "outputId": "c08741b1-f95b-43b1-f4af-a26eda07292b"
      },
      "source": [
        "accident_counts = df_2['Class'].value_counts()\n",
        "\n",
        "plt.figure(figsize=(10, 8))\n",
        "plt.title(\"Histogram for the class\")\n",
        "sns.barplot(accident_counts.index, accident_counts.values)\n",
        "plt.xlabel(\"accident_counts\")\n",
        "plt.ylabel(\"Value\")\n",
        "plt.show()"
      ],
      "execution_count": 18,
      "outputs": [
        {
          "output_type": "stream",
          "text": [
            "/usr/local/lib/python3.7/dist-packages/seaborn/_decorators.py:43: FutureWarning: Pass the following variables as keyword args: x, y. From version 0.12, the only valid positional argument will be `data`, and passing other arguments without an explicit keyword will result in an error or misinterpretation.\n",
            "  FutureWarning\n"
          ],
          "name": "stderr"
        },
        {
          "output_type": "display_data",
          "data": {
            "image/png": "[encoded data removed]",
            "text/plain": [
              "<Figure size 720x576 with 1 Axes>"
            ]
          },
          "metadata": {
            "tags": [],
            "needs_background": "light"
          }
        }
      ]
    },
    {
      "cell_type": "code",
      "metadata": {
        "colab": {
          "base_uri": "https://localhost:8080/"
        },
        "id": "BGhFRBiFEqz-",
        "outputId": "6d89369c-3ae5-44d3-a279-e93db80e014d"
      },
      "source": [
        "#df_2.drop('Direction',axis=1,inplace=True)\n",
        "X_df = df_2.drop('Class', axis=1)\n",
        "Y_df = df_2['Class']\n",
        "print(X_df.shape)\n",
        "print(Y_df.shape)\n",
        "\n",
        "X_data=X_df.values\n",
        "Y_class=Y_df.values"
      ],
      "execution_count": 19,
      "outputs": [
        {
          "output_type": "stream",
          "text": [
            "(109791, 32)\n",
            "(109791,)\n"
          ],
          "name": "stdout"
        }
      ]
    },
    {
      "cell_type": "code",
      "metadata": {
        "colab": {
          "base_uri": "https://localhost:8080/"
        },
        "id": "M6agqzuNE3VO",
        "outputId": "8f4b8938-159c-46a0-ea15-7ae37c760780"
      },
      "source": [
        "print(X_data.shape)\n",
        "print(Y_class.shape)"
      ],
      "execution_count": 20,
      "outputs": [
        {
          "output_type": "stream",
          "text": [
            "(109791, 32)\n",
            "(109791,)\n"
          ],
          "name": "stdout"
        }
      ]
    },
    {
      "cell_type": "code",
      "metadata": {
        "id": "83DBBVtbQC_d"
      },
      "source": [
        "from sklearn.preprocessing import StandardScaler\n",
        "# define standard scaler\n",
        "scaler = StandardScaler()\n",
        "# transform data\n",
        "X_data_scaled = scaler.fit_transform(X_data)\n",
        "#print(X_data_scaled)"
      ],
      "execution_count": 21,
      "outputs": []
    },
    {
      "cell_type": "code",
      "metadata": {
        "colab": {
          "base_uri": "https://localhost:8080/"
        },
        "id": "-fdfTz7UiM89",
        "outputId": "75578ee6-6d64-48af-e81f-68d87fb51d0c"
      },
      "source": [
        " #Apply gradient boosting algorithm to identify the features with zero importance.\n",
        "  #      The gbm is trained with early stopping using a validation fraction to prevent overfitting. \n",
        "   #     The feature importances are averaged over iteration to reduce variance. \n",
        "\n",
        "\n",
        "# Extract feature names\n",
        "feature_names = list(X_df.columns)\n",
        "# Convert to np array\n",
        "X = X_data_scaled.tolist()\n",
        "y = Y_class.tolist()\n",
        "\n",
        "# Create empty array for feature importances\n",
        "feat_imp_val = np.zeros(len(feature_names))\n",
        "loop=10\n",
        "\n",
        "# loop through each fold\n",
        "for a in range(loop):\n",
        "\n",
        "      model = GradientBoostingClassifier(n_estimators=1000, \n",
        "                                         validation_fraction=0.20,\n",
        "                                         n_iter_no_change=100, \n",
        "                                         tol=0.01,\n",
        "                                         learning_rate = 0.05,\n",
        "                                         #verbose = -1\n",
        "                                         )\n",
        "      train_X, test_X, train_y, test_y = train_test_split(X, y, test_size = 0.20, random_state=0)\n",
        "      model.fit(train_X, train_y )\n",
        "      # memory management\n",
        "      gc.enable()\n",
        "      del train_X, test_X, train_y, test_y\n",
        "      gc.collect()\n",
        "             \n",
        "      # Calculate feature importances and save in the variable\n",
        "      feat_imp_val += model.feature_importances_ / loop\n",
        "\n",
        "      feat_imp = pd.DataFrame({'feature': feature_names, 'importance': feat_imp_val})\n",
        "\n",
        "      # use importance to sort the features\n",
        "      feat_imp = feat_imp.sort_values('importance', ascending = False).reset_index(drop = True)\n",
        "\n",
        "        # Normalize the feature importances to add up to one\n",
        "      feat_imp['normalized_importance'] = feat_imp['importance'] / feat_imp['importance'].sum()\n",
        "      feat_imp['cumulative_importance'] = np.cumsum(feat_imp['normalized_importance'])\n",
        "\n",
        "        # Extract the features with zero importance\n",
        "      record_zero_importance = feat_imp[feat_imp['importance'] == 0.0]\n",
        "        \n",
        "      to_drop = list(record_zero_importance['feature'])\n",
        "      print('\\n%d features with zero importance\\n' % len(to_drop))    \n"
      ],
      "execution_count": 22,
      "outputs": [
        {
          "output_type": "stream",
          "text": [
            "\n",
            "12 features with zero importance\n",
            "\n",
            "\n",
            "8 features with zero importance\n",
            "\n",
            "\n",
            "7 features with zero importance\n",
            "\n",
            "\n",
            "7 features with zero importance\n",
            "\n",
            "\n",
            "6 features with zero importance\n",
            "\n",
            "\n",
            "6 features with zero importance\n",
            "\n",
            "\n",
            "6 features with zero importance\n",
            "\n",
            "\n",
            "6 features with zero importance\n",
            "\n",
            "\n",
            "6 features with zero importance\n",
            "\n",
            "\n",
            "6 features with zero importance\n",
            "\n"
          ],
          "name": "stdout"
        }
      ]
    },
    {
      "cell_type": "code",
      "metadata": {
        "colab": {
          "base_uri": "https://localhost:8080/"
        },
        "id": "XUo8NAjrMDTd",
        "outputId": "381b7a7e-2b09-47ef-a597-9d650044466e"
      },
      "source": [
        "zero_imp=record_zero_importance['feature'].tolist()\n",
        "zero_imp\n"
      ],
      "execution_count": 23,
      "outputs": [
        {
          "output_type": "execute_result",
          "data": {
            "text/plain": [
              "[' Cat 4 Speed Count',\n",
              " ' Cat 2 Speed Count',\n",
              " ' Cat 1 Speed Count',\n",
              " 'Hourly Snow Depth (cm)',\n",
              " 'Hourly Rainfall Total (mm)',\n",
              " ' Cat 3 Speed Count']"
            ]
          },
          "metadata": {
            "tags": []
          },
          "execution_count": 23
        }
      ]
    },
    {
      "cell_type": "code",
      "metadata": {
        "colab": {
          "base_uri": "https://localhost:8080/"
        },
        "id": "R3Lw-JPsZGzL",
        "outputId": "fc2b0c08-50e1-474b-c3f9-963bbbf17426"
      },
      "source": [
        "print(df_2.shape)\n",
        "df_3=df_2.drop(columns=zero_imp)\n",
        "print(df_3.shape)\n"
      ],
      "execution_count": 24,
      "outputs": [
        {
          "output_type": "stream",
          "text": [
            "(109791, 33)\n",
            "(109791, 27)\n"
          ],
          "name": "stdout"
        }
      ]
    },
    {
      "cell_type": "code",
      "metadata": {
        "id": "dM_tRqmDaNaP"
      },
      "source": [
        "df_3.to_excel('Merged_15minTrafficFlow_Preprocessed_After_Feature_Selection_Data.xlsx', index=False)\n"
      ],
      "execution_count": 25,
      "outputs": []
    },
    {
      "cell_type": "code",
      "metadata": {
        "id": "c-ZSb0ZxnqAQ",
        "colab": {
          "base_uri": "https://localhost:8080/"
        },
        "outputId": "3607cf5a-41ab-4e6d-b6f3-57d5be74982e"
      },
      "source": [
        "df_3['Class'].value_counts()"
      ],
      "execution_count": 26,
      "outputs": [
        {
          "output_type": "execute_result",
          "data": {
            "text/plain": [
              "0    109785\n",
              "1         6\n",
              "Name: Class, dtype: int64"
            ]
          },
          "metadata": {
            "tags": []
          },
          "execution_count": 26
        }
      ]
    },
    {
      "cell_type": "code",
      "metadata": {
        "id": "iwmpurGnsreQ"
      },
      "source": [
        ""
      ],
      "execution_count": 26,
      "outputs": []
    }
  ]
}